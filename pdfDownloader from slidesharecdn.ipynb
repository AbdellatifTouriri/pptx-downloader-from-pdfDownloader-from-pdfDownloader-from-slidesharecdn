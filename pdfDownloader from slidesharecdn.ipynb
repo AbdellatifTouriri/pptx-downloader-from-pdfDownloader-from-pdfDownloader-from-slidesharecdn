{
  "nbformat": 4,
  "nbformat_minor": 0,
  "metadata": {
    "colab": {
      "provenance": []
    },
    "kernelspec": {
      "name": "python3",
      "display_name": "Python 3"
    },
    "language_info": {
      "name": "python"
    }
  },
  "cells": [
    {
      "cell_type": "markdown",
      "source": [],
      "metadata": {
        "id": "rF1mEjKykOrL"
      }
    },
    {
      "cell_type": "markdown",
      "source": [
        "install requirement"
      ],
      "metadata": {
        "id": "329wtt4RkRws"
      }
    },
    {
      "cell_type": "code",
      "source": [
        "! pip install requests beautifulsoup4 python-pptx\n"
      ],
      "metadata": {
        "colab": {
          "base_uri": "https://localhost:8080/"
        },
        "id": "Qc4cJYl2jGce",
        "outputId": "8400ebe4-ebd9-4d29-a433-e28e265b49bb"
      },
      "execution_count": 2,
      "outputs": [
        {
          "output_type": "stream",
          "name": "stdout",
          "text": [
            "Requirement already satisfied: requests in /usr/local/lib/python3.10/dist-packages (2.31.0)\n",
            "Requirement already satisfied: beautifulsoup4 in /usr/local/lib/python3.10/dist-packages (4.12.3)\n",
            "Collecting python-pptx\n",
            "  Downloading python_pptx-0.6.23-py3-none-any.whl (471 kB)\n",
            "\u001b[2K     \u001b[90m━━━━━━━━━━━━━━━━━━━━━━━━━━━━━━━━━━━━━━━━\u001b[0m \u001b[32m471.6/471.6 kB\u001b[0m \u001b[31m10.0 MB/s\u001b[0m eta \u001b[36m0:00:00\u001b[0m\n",
            "\u001b[?25hRequirement already satisfied: charset-normalizer<4,>=2 in /usr/local/lib/python3.10/dist-packages (from requests) (3.3.2)\n",
            "Requirement already satisfied: idna<4,>=2.5 in /usr/local/lib/python3.10/dist-packages (from requests) (3.7)\n",
            "Requirement already satisfied: urllib3<3,>=1.21.1 in /usr/local/lib/python3.10/dist-packages (from requests) (2.0.7)\n",
            "Requirement already satisfied: certifi>=2017.4.17 in /usr/local/lib/python3.10/dist-packages (from requests) (2024.6.2)\n",
            "Requirement already satisfied: soupsieve>1.2 in /usr/local/lib/python3.10/dist-packages (from beautifulsoup4) (2.5)\n",
            "Requirement already satisfied: lxml>=3.1.0 in /usr/local/lib/python3.10/dist-packages (from python-pptx) (4.9.4)\n",
            "Requirement already satisfied: Pillow>=3.3.2 in /usr/local/lib/python3.10/dist-packages (from python-pptx) (9.4.0)\n",
            "Collecting XlsxWriter>=0.5.7 (from python-pptx)\n",
            "  Downloading XlsxWriter-3.2.0-py3-none-any.whl (159 kB)\n",
            "\u001b[2K     \u001b[90m━━━━━━━━━━━━━━━━━━━━━━━━━━━━━━━━━━━━━━━━\u001b[0m \u001b[32m159.9/159.9 kB\u001b[0m \u001b[31m22.0 MB/s\u001b[0m eta \u001b[36m0:00:00\u001b[0m\n",
            "\u001b[?25hInstalling collected packages: XlsxWriter, python-pptx\n",
            "Successfully installed XlsxWriter-3.2.0 python-pptx-0.6.23\n"
          ]
        }
      ]
    },
    {
      "cell_type": "code",
      "source": [
        "slideshow_url = \"https://www.slideshare.net/slideshow/thorie-de-graphe/46698343\"\n",
        "end= 20  # put last number of pptx"
      ],
      "metadata": {
        "id": "4R4RKYZVFmes"
      },
      "execution_count": 134,
      "outputs": []
    },
    {
      "cell_type": "markdown",
      "source": [
        "extract all links of images"
      ],
      "metadata": {
        "id": "Sv1A8t6RkU-f"
      }
    },
    {
      "cell_type": "code",
      "source": [
        "import requests\n",
        "from bs4 import BeautifulSoup\n",
        "\n",
        "def get_image_link_from_selector(url, selector):\n",
        "    try:\n",
        "        # Fetch the HTML content of the SlideShare page\n",
        "        response = requests.get(url)\n",
        "        if response.status_code == 200:\n",
        "            # Parse HTML content\n",
        "            soup = BeautifulSoup(response.content, 'html.parser')\n",
        "\n",
        "            # Extract image link using CSS selector\n",
        "            image_element = soup.select_one(selector)\n",
        "\n",
        "            if image_element and 'src' in image_element.attrs:\n",
        "                image_link = image_element['src']\n",
        "                return image_link\n",
        "            else:\n",
        "                print(\"Image link not found.\")\n",
        "                return None\n",
        "        else:\n",
        "            print(f\"Failed to fetch SlideShare page. Status code: {response.status_code}\")\n",
        "            return None\n",
        "    except Exception as e:\n",
        "        print(f\"An error occurred: {e}\")\n",
        "        return None\n",
        "\n",
        "# Example usage:\n",
        "css_selector = '#slide-image-0'\n",
        "image_link = get_image_link_from_selector(slideshow_url, css_selector)\n",
        "print(\"Image link:\", image_link)\n"
      ],
      "metadata": {
        "colab": {
          "base_uri": "https://localhost:8080/"
        },
        "id": "YOcAHUzo3SZR",
        "outputId": "081f9b92-1ca5-4ad3-cdb8-5c5892e85c11"
      },
      "execution_count": 135,
      "outputs": [
        {
          "output_type": "stream",
          "name": "stdout",
          "text": [
            "Image link: https://image.slidesharecdn.com/thoriedegraphe-150406165724-conversion-gate01/85/Theorie-de-graphe-1-320.jpg\n"
          ]
        }
      ]
    },
    {
      "cell_type": "code",
      "source": [
        "import requests\n",
        "from bs4 import BeautifulSoup\n",
        "\n",
        "def get_element_content(url, selector):\n",
        "    try:\n",
        "        # Send a GET request to the URL\n",
        "        response = requests.get(url)\n",
        "        response.raise_for_status()  # Raise an exception for bad status codes\n",
        "\n",
        "        # Parse the HTML content\n",
        "        soup = BeautifulSoup(response.content, 'html.parser')\n",
        "\n",
        "        # Find the element using the specified selector\n",
        "        element = soup.select_one(selector)\n",
        "\n",
        "        # Return the text content of the element\n",
        "        if element:\n",
        "            return element.text.strip()\n",
        "        else:\n",
        "            print(f\"Element with selector '{selector}' not found on the page.\")\n",
        "            return None\n",
        "\n",
        "    except requests.exceptions.RequestException as e:\n",
        "        print(f\"Failed to retrieve content from {url}. Error: {str(e)}\")\n",
        "        return None\n",
        "    except Exception as e:\n",
        "        print(f\"An error occurred: {str(e)}\")\n",
        "        return None\n",
        "\n",
        "# Example usage\n",
        "selector = '#metadata-toolbar > div > span'\n",
        "\n",
        "content = get_element_content(url, selector)\n",
        "print(content.split(\" of \"))\n"
      ],
      "metadata": {
        "colab": {
          "base_uri": "https://localhost:8080/"
        },
        "id": "JoWvleMlFgd6",
        "outputId": "cc5a8f4f-2b32-4258-9898-3814154857d6"
      },
      "execution_count": 136,
      "outputs": [
        {
          "output_type": "stream",
          "name": "stdout",
          "text": [
            "['1', '22']\n"
          ]
        }
      ]
    },
    {
      "cell_type": "code",
      "source": [
        "def generate_links(base_url, end, replace_str):\n",
        "    links = []\n",
        "    for i in range(1,end):\n",
        "        new_link = base_url.replace(replace_str, f\"{i}-2048.jpg\")\n",
        "        new_link = new_link.replace('/85/', \"/75/\")\n",
        "        links.append(new_link)\n",
        "    return links\n",
        "\n",
        "# Example usage:\n",
        "base_url = image_link\n",
        "replace_str = \"1-320.jpg\"\n",
        "links = generate_links(base_url,   end, replace_str)\n",
        "\n",
        "# Print out the generated links\n",
        "print(links)\n"
      ],
      "metadata": {
        "colab": {
          "base_uri": "https://localhost:8080/"
        },
        "id": "t8SZ2Lig1-J7",
        "outputId": "8c45b075-ed0b-4cea-8280-3fe781cde472"
      },
      "execution_count": 141,
      "outputs": [
        {
          "output_type": "stream",
          "name": "stdout",
          "text": [
            "['https://image.slidesharecdn.com/thoriedegraphe-150406165724-conversion-gate01/75/Theorie-de-graphe-1-2048.jpg', 'https://image.slidesharecdn.com/thoriedegraphe-150406165724-conversion-gate01/75/Theorie-de-graphe-2-2048.jpg', 'https://image.slidesharecdn.com/thoriedegraphe-150406165724-conversion-gate01/75/Theorie-de-graphe-3-2048.jpg', 'https://image.slidesharecdn.com/thoriedegraphe-150406165724-conversion-gate01/75/Theorie-de-graphe-4-2048.jpg', 'https://image.slidesharecdn.com/thoriedegraphe-150406165724-conversion-gate01/75/Theorie-de-graphe-5-2048.jpg', 'https://image.slidesharecdn.com/thoriedegraphe-150406165724-conversion-gate01/75/Theorie-de-graphe-6-2048.jpg', 'https://image.slidesharecdn.com/thoriedegraphe-150406165724-conversion-gate01/75/Theorie-de-graphe-7-2048.jpg', 'https://image.slidesharecdn.com/thoriedegraphe-150406165724-conversion-gate01/75/Theorie-de-graphe-8-2048.jpg', 'https://image.slidesharecdn.com/thoriedegraphe-150406165724-conversion-gate01/75/Theorie-de-graphe-9-2048.jpg', 'https://image.slidesharecdn.com/thoriedegraphe-150406165724-conversion-gate01/75/Theorie-de-graphe-10-2048.jpg', 'https://image.slidesharecdn.com/thoriedegraphe-150406165724-conversion-gate01/75/Theorie-de-graphe-11-2048.jpg', 'https://image.slidesharecdn.com/thoriedegraphe-150406165724-conversion-gate01/75/Theorie-de-graphe-12-2048.jpg', 'https://image.slidesharecdn.com/thoriedegraphe-150406165724-conversion-gate01/75/Theorie-de-graphe-13-2048.jpg', 'https://image.slidesharecdn.com/thoriedegraphe-150406165724-conversion-gate01/75/Theorie-de-graphe-14-2048.jpg', 'https://image.slidesharecdn.com/thoriedegraphe-150406165724-conversion-gate01/75/Theorie-de-graphe-15-2048.jpg', 'https://image.slidesharecdn.com/thoriedegraphe-150406165724-conversion-gate01/75/Theorie-de-graphe-16-2048.jpg', 'https://image.slidesharecdn.com/thoriedegraphe-150406165724-conversion-gate01/75/Theorie-de-graphe-17-2048.jpg', 'https://image.slidesharecdn.com/thoriedegraphe-150406165724-conversion-gate01/75/Theorie-de-graphe-18-2048.jpg', 'https://image.slidesharecdn.com/thoriedegraphe-150406165724-conversion-gate01/75/Theorie-de-graphe-19-2048.jpg']\n"
          ]
        }
      ]
    },
    {
      "cell_type": "code",
      "source": [
        "import os\n",
        "import requests\n",
        "import uuid\n",
        "folder_name = \"images\"+str(uuid.uuid4())[:8]  # Using the first 8 characters of the UUID for brevity\n",
        "def download_images(image_urls):\n",
        "    # Create a unique folder name based on timestamp\n",
        "    os.makedirs(folder_name, exist_ok=True)\n",
        "\n",
        "    # Download each image and save to the folder\n",
        "    for index, url in enumerate(image_urls):\n",
        "        try:\n",
        "            response = requests.get(url)\n",
        "            if response.status_code == 200:\n",
        "                image_path = os.path.join(folder_name, f\"image_{index+1}.jpg\")\n",
        "                with open(image_path, 'wb') as f:\n",
        "                    f.write(response.content)\n",
        "                print(f\"Downloaded {image_path}\")\n",
        "            else:\n",
        "                print(f\"Failed to download {url}. Status code: {response.status_code}\")\n",
        "        except Exception as e:\n",
        "            print(f\"Failed to download {url}. Error: {str(e)}\")\n",
        "\n",
        "# Example list of image URLs\n",
        "\n",
        "\n",
        "# Download images\n",
        "download_images(links)\n",
        "import os\n",
        "from reportlab.lib.pagesizes import letter\n",
        "from reportlab.pdfgen import canvas\n",
        "from PIL import Image\n",
        "\n",
        "def resize_image(image_path, max_width, max_height):\n",
        "    try:\n",
        "        img = Image.open(image_path)\n",
        "        width, height = img.size\n",
        "\n",
        "        # Calculate aspect ratio\n",
        "        aspect_ratio = width / height\n",
        "\n",
        "        # Determine new dimensions while maintaining aspect ratio\n",
        "        if width > max_width or height > max_height:\n",
        "            if aspect_ratio > 1:\n",
        "                new_width = max_width\n",
        "                new_height = int(max_width / aspect_ratio)\n",
        "            else:\n",
        "                new_height = max_height\n",
        "                new_width = int(max_height * aspect_ratio)\n",
        "\n",
        "            # Resize image\n",
        "            img = img.resize((new_width, new_height), Image.ANTIALIAS)\n",
        "\n",
        "        return img\n",
        "\n",
        "    except Exception as e:\n",
        "        print(f\"Failed to resize {image_path}. Error: {str(e)}\")\n",
        "        return None\n",
        "\n",
        "def create_pdf_from_images(folder_path, output_pdf):\n",
        "    # Create a PDF canvas\n",
        "    c = canvas.Canvas(output_pdf, pagesize=letter)\n",
        "\n",
        "    # Get all image files in the folder\n",
        "    image_files = [f for f in os.listdir(folder_path) if os.path.isfile(os.path.join(folder_path, f))]\n",
        "\n",
        "    # Iterate over image files and add each as a page in the PDF\n",
        "    for index, image_file in enumerate(image_files):\n",
        "        try:\n",
        "            image_path = os.path.join(folder_path, image_file)\n",
        "            img = resize_image(image_path, 600, 800)  # Adjust max_width and max_height as needed\n",
        "\n",
        "            if img:\n",
        "                # Calculate position to center image on page\n",
        "                width, height = img.size\n",
        "                x_pos = (letter[0] - width) / 2\n",
        "                y_pos = (letter[1] - height) / 2\n",
        "\n",
        "                # Add the image to the PDF canvas\n",
        "                c.drawInlineImage(img, x_pos, y_pos, width, height)\n",
        "\n",
        "                # Add a new page for each image (except the first one)\n",
        "                if index < len(image_files) - 1:\n",
        "                    c.showPage()\n",
        "\n",
        "                print(f\"Added {image_file} to PDF\")\n",
        "\n",
        "        except Exception as e:\n",
        "            print(f\"Failed to process {image_file}. Error: {str(e)}\")\n",
        "\n",
        "    # Save the PDF file\n",
        "    c.save()\n",
        "    print(f\"PDF '{output_pdf}' created successfully with images from folder '{folder_path}'.\")\n",
        "\n",
        "# Example folder containing images\n",
        "folder_path = \"../content/\"+folder_name\n",
        "output_pdf = \"output_images.pdf\"\n",
        "\n",
        "# Create PDF from images in the folder\n",
        "create_pdf_from_images(folder_path, output_pdf)\n",
        "\n"
      ],
      "metadata": {
        "colab": {
          "base_uri": "https://localhost:8080/"
        },
        "id": "MR_z1KNq9Gxp",
        "outputId": "566f69e7-3f8f-4169-f68e-24453e44983c"
      },
      "execution_count": 142,
      "outputs": [
        {
          "output_type": "stream",
          "name": "stdout",
          "text": [
            "Downloaded images18fa69aa/image_1.jpg\n",
            "Downloaded images18fa69aa/image_2.jpg\n",
            "Downloaded images18fa69aa/image_3.jpg\n",
            "Downloaded images18fa69aa/image_4.jpg\n",
            "Downloaded images18fa69aa/image_5.jpg\n",
            "Downloaded images18fa69aa/image_6.jpg\n",
            "Downloaded images18fa69aa/image_7.jpg\n",
            "Downloaded images18fa69aa/image_8.jpg\n",
            "Downloaded images18fa69aa/image_9.jpg\n",
            "Downloaded images18fa69aa/image_10.jpg\n",
            "Downloaded images18fa69aa/image_11.jpg\n",
            "Downloaded images18fa69aa/image_12.jpg\n",
            "Downloaded images18fa69aa/image_13.jpg\n",
            "Downloaded images18fa69aa/image_14.jpg\n",
            "Downloaded images18fa69aa/image_15.jpg\n",
            "Downloaded images18fa69aa/image_16.jpg\n",
            "Downloaded images18fa69aa/image_17.jpg\n",
            "Downloaded images18fa69aa/image_18.jpg\n",
            "Downloaded images18fa69aa/image_19.jpg\n",
            "Added image_12.jpg to PDF\n"
          ]
        },
        {
          "output_type": "stream",
          "name": "stderr",
          "text": [
            "<ipython-input-142-5053dffaf690>:51: DeprecationWarning: ANTIALIAS is deprecated and will be removed in Pillow 10 (2023-07-01). Use LANCZOS or Resampling.LANCZOS instead.\n",
            "  img = img.resize((new_width, new_height), Image.ANTIALIAS)\n"
          ]
        },
        {
          "output_type": "stream",
          "name": "stdout",
          "text": [
            "Added image_10.jpg to PDF\n",
            "Added image_9.jpg to PDF\n",
            "Added image_18.jpg to PDF\n",
            "Added image_7.jpg to PDF\n",
            "Added image_14.jpg to PDF\n",
            "Added image_5.jpg to PDF\n",
            "Added image_6.jpg to PDF\n",
            "Added image_11.jpg to PDF\n",
            "Added image_3.jpg to PDF\n",
            "Added image_19.jpg to PDF\n",
            "Added image_15.jpg to PDF\n",
            "Added image_13.jpg to PDF\n",
            "Added image_17.jpg to PDF\n",
            "Added image_2.jpg to PDF\n",
            "Added image_1.jpg to PDF\n",
            "Added image_16.jpg to PDF\n",
            "Added image_4.jpg to PDF\n",
            "Added image_8.jpg to PDF\n",
            "PDF 'output_images.pdf' created successfully with images from folder '../content/images18fa69aa'.\n"
          ]
        }
      ]
    },
    {
      "cell_type": "code",
      "source": [],
      "metadata": {
        "colab": {
          "base_uri": "https://localhost:8080/"
        },
        "id": "6NDFUye3_4hI",
        "outputId": "4427ee3e-7b85-4722-9524-63a6a8ae4c18"
      },
      "execution_count": 83,
      "outputs": [
        {
          "output_type": "stream",
          "name": "stderr",
          "text": [
            "<ipython-input-83-95011851fd8d>:24: DeprecationWarning: ANTIALIAS is deprecated and will be removed in Pillow 10 (2023-07-01). Use LANCZOS or Resampling.LANCZOS instead.\n",
            "  img = img.resize((new_width, new_height), Image.ANTIALIAS)\n"
          ]
        },
        {
          "output_type": "stream",
          "name": "stdout",
          "text": [
            "Added image_3.jpg to PDF\n",
            "Added image_2.jpg to PDF\n",
            "Added image_1.jpg to PDF\n",
            "PDF 'output_images.pdf' created successfully with images from folder '../content/6fb0e1a1'.\n"
          ]
        }
      ]
    },
    {
      "cell_type": "code",
      "source": [
        "!pip install reportlab"
      ],
      "metadata": {
        "colab": {
          "base_uri": "https://localhost:8080/"
        },
        "id": "NPYeJuejBqkw",
        "outputId": "551ee16c-582a-4586-e56e-8b776827e8d6"
      },
      "execution_count": 75,
      "outputs": [
        {
          "output_type": "stream",
          "name": "stdout",
          "text": [
            "Collecting reportlab\n",
            "  Downloading reportlab-4.2.2-py3-none-any.whl (1.9 MB)\n",
            "\u001b[?25l     \u001b[90m━━━━━━━━━━━━━━━━━━━━━━━━━━━━━━━━━━━━━━━━\u001b[0m \u001b[32m0.0/1.9 MB\u001b[0m \u001b[31m?\u001b[0m eta \u001b[36m-:--:--\u001b[0m\r\u001b[2K     \u001b[91m━━\u001b[0m\u001b[91m╸\u001b[0m\u001b[90m━━━━━━━━━━━━━━━━━━━━━━━━━━━━━━━━━━━━━\u001b[0m \u001b[32m0.1/1.9 MB\u001b[0m \u001b[31m4.1 MB/s\u001b[0m eta \u001b[36m0:00:01\u001b[0m\r\u001b[2K     \u001b[91m━━━━━━━━━━━━━━━━━━━━━━━━━━━━━━━━━━━━━━━\u001b[0m\u001b[91m╸\u001b[0m \u001b[32m1.9/1.9 MB\u001b[0m \u001b[31m28.8 MB/s\u001b[0m eta \u001b[36m0:00:01\u001b[0m\r\u001b[2K     \u001b[90m━━━━━━━━━━━━━━━━━━━━━━━━━━━━━━━━━━━━━━━━\u001b[0m \u001b[32m1.9/1.9 MB\u001b[0m \u001b[31m22.7 MB/s\u001b[0m eta \u001b[36m0:00:00\u001b[0m\n",
            "\u001b[?25hRequirement already satisfied: pillow>=9.0.0 in /usr/local/lib/python3.10/dist-packages (from reportlab) (9.4.0)\n",
            "Requirement already satisfied: chardet in /usr/local/lib/python3.10/dist-packages (from reportlab) (5.2.0)\n",
            "Installing collected packages: reportlab\n",
            "Successfully installed reportlab-4.2.2\n"
          ]
        }
      ]
    },
    {
      "cell_type": "markdown",
      "source": [
        "get / predict urls"
      ],
      "metadata": {
        "id": "0a8bWsn3xbfL"
      }
    }
  ]
}